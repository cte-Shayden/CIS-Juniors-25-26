{
 "cells": [
  {
   "cell_type": "markdown",
   "id": "59b3a83c",
   "metadata": {},
   "source": [
    "### Web Browsers\n",
    "\n",
    "* Software used for browsing, reading, and translating web documents\n",
    "* Examples of web browsers:\n",
    "    * Google Chrome\n",
    "    * Firefox\n",
    "    * Microsoft Edge\n",
    "    * Opera GX\n",
    "    * Duck Duck Go\n",
    "    * Safari\n",
    "    * Brave\n",
    "    * Internet Expplorer (MS) - Depricated\n",
    "    * Netscape Depricated\n",
    "* Why you do not use old or UN-updated browsers.\n",
    "    * Security - security updates"
   ]
  },
  {
   "cell_type": "markdown",
   "id": "1e1b6e08",
   "metadata": {},
   "source": []
  },
  {
   "cell_type": "markdown",
   "id": "69ff62ac",
   "metadata": {},
   "source": [
    "### HTML Skeleton/Structure\n",
    "\n",
    "#### see index.html \n",
    "\n",
    "### structure of HTML TAG\n",
    "\n",
    "\n",
    "<meta charset=\"UTF-8\">\n",
    "\n",
    "* tag name\n",
    "* attribute(s)\n",
    "* attribute values\n"
   ]
  },
  {
   "cell_type": "markdown",
   "id": "126a34d4",
   "metadata": {},
   "source": [
    "### Key Concepts of HTML\n",
    "\n",
    "* Most html tags have an opening and closing\n",
    "* HTML Elements - These are completed by a complete pair of tags with content.\n",
    "* Attributes - additional information about the elements.\n",
    "\n",
    "##### Essential HTML Elements.\n",
    "\n",
    "* < h1 > through < h6 > < /h6 > - headings, hi is the largest by default, h6 is the smallest.\n",
    "* < p > < /p > - paragraphs\n",
    "* < br > - Line Break\n"
   ]
  },
  {
   "cell_type": "markdown",
   "id": "922aea64",
   "metadata": {},
   "source": []
  }
 ],
 "metadata": {
  "language_info": {
   "name": "python"
  }
 },
 "nbformat": 4,
 "nbformat_minor": 5
}
